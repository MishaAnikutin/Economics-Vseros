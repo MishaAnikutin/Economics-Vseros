{
 "cells": [
  {
   "cell_type": "code",
   "execution_count": 1,
   "id": "ebd7a7a0",
   "metadata": {},
   "outputs": [],
   "source": [
    "import pandas as pd\n",
    "import matplotlib.pyplot as plt"
   ]
  },
  {
   "cell_type": "code",
   "execution_count": 20,
   "id": "ae694f92",
   "metadata": {},
   "outputs": [],
   "source": [
    "df9 = pd.read_excel(r'C:\\Users\\billy\\OneDrive\\Рабочий стол\\data\\Неофициальный сводный рейтинг регионального этапа по экономике 2021_2022.xlsx', sheet_name=0)\n",
    "df9 = df9.iloc[:, 0:2]"
   ]
  },
  {
   "cell_type": "code",
   "execution_count": 21,
   "id": "4a761ff6",
   "metadata": {},
   "outputs": [],
   "source": [
    "df10 = pd.read_excel(r'C:\\Users\\billy\\OneDrive\\Рабочий стол\\data\\Неофициальный сводный рейтинг регионального этапа по экономике 2021_2022.xlsx', sheet_name=1)\n",
    "df10 = df10.iloc[:, 0:2]"
   ]
  },
  {
   "cell_type": "code",
   "execution_count": 22,
   "id": "88b34e81",
   "metadata": {},
   "outputs": [],
   "source": [
    "df11 = pd.read_excel(r'C:\\Users\\billy\\OneDrive\\Рабочий стол\\data\\Неофициальный сводный рейтинг регионального этапа по экономике 2021_2022.xlsx', sheet_name=2)\n",
    "df11 = df11.iloc[:, 0:2]"
   ]
  },
  {
   "cell_type": "code",
   "execution_count": 55,
   "id": "7168c103",
   "metadata": {},
   "outputs": [
    {
     "data": {
      "text/html": [
       "<div>\n",
       "<style scoped>\n",
       "    .dataframe tbody tr th:only-of-type {\n",
       "        vertical-align: middle;\n",
       "    }\n",
       "\n",
       "    .dataframe tbody tr th {\n",
       "        vertical-align: top;\n",
       "    }\n",
       "\n",
       "    .dataframe thead th {\n",
       "        text-align: right;\n",
       "    }\n",
       "</style>\n",
       "<table border=\"1\" class=\"dataframe\">\n",
       "  <thead>\n",
       "    <tr style=\"text-align: right;\">\n",
       "      <th></th>\n",
       "      <th>Регион</th>\n",
       "      <th>Сумма баллов</th>\n",
       "    </tr>\n",
       "  </thead>\n",
       "  <tbody>\n",
       "  </tbody>\n",
       "</table>\n",
       "</div>"
      ],
      "text/plain": [
       "Empty DataFrame\n",
       "Columns: [ Регион, Сумма баллов ]\n",
       "Index: []"
      ]
     },
     "execution_count": 55,
     "metadata": {},
     "output_type": "execute_result"
    }
   ],
   "source": [
    "df9.head(0)"
   ]
  },
  {
   "cell_type": "markdown",
   "id": "126bf82d",
   "metadata": {},
   "source": [
    "## Посчитаем число мест на закле"
   ]
  },
  {
   "cell_type": "code",
   "execution_count": 69,
   "id": "191774f5",
   "metadata": {},
   "outputs": [],
   "source": [
    "final = pd.read_excel(r'C:\\Users\\billy\\OneDrive\\Рабочий стол\\data\\ЗЭ ВОШ экономика 2022.xlsx')\n",
    "final = final.dropna()\n",
    "final.columns = final.iloc[0, :]\n",
    "final = final.iloc[2:]"
   ]
  },
  {
   "cell_type": "code",
   "execution_count": 39,
   "id": "b2127d5a",
   "metadata": {},
   "outputs": [
    {
     "data": {
      "text/plain": [
       "(107, 6)"
      ]
     },
     "execution_count": 39,
     "metadata": {},
     "output_type": "execute_result"
    }
   ],
   "source": [
    "final[final['Класс'] <= 9].shape"
   ]
  },
  {
   "cell_type": "code",
   "execution_count": 38,
   "id": "81d2ce2d",
   "metadata": {},
   "outputs": [
    {
     "data": {
      "text/plain": [
       "(112, 6)"
      ]
     },
     "execution_count": 38,
     "metadata": {},
     "output_type": "execute_result"
    }
   ],
   "source": [
    "final[final['Класс'] == 10].shape"
   ]
  },
  {
   "cell_type": "code",
   "execution_count": 40,
   "id": "48273be5",
   "metadata": {},
   "outputs": [
    {
     "data": {
      "text/plain": [
       "(121, 6)"
      ]
     },
     "execution_count": 40,
     "metadata": {},
     "output_type": "execute_result"
    }
   ],
   "source": [
    "final[final['Класс'] == 11].shape"
   ]
  },
  {
   "cell_type": "markdown",
   "id": "b0e6de0a",
   "metadata": {},
   "source": [
    "### Похоже, что 9 дали 110 мест, а 10 и 11 по 120 мест"
   ]
  },
  {
   "cell_type": "markdown",
   "id": "57f7b418",
   "metadata": {},
   "source": [
    "# Предскажим проходные для прошлого года))"
   ]
  },
  {
   "cell_type": "markdown",
   "id": "57a5f0d1",
   "metadata": {},
   "source": [
    "Посчитаем число автопроходников"
   ]
  },
  {
   "cell_type": "code",
   "execution_count": 44,
   "id": "ecd38d66",
   "metadata": {},
   "outputs": [],
   "source": [
    "final = pd.read_excel(r'C:\\Users\\billy\\OneDrive\\Рабочий стол\\data\\ЗЭ ВОШ экономика 2021.xlsx')"
   ]
  },
  {
   "cell_type": "code",
   "execution_count": 53,
   "id": "0f63407e",
   "metadata": {},
   "outputs": [
    {
     "data": {
      "text/plain": [
       "(0, 6)"
      ]
     },
     "execution_count": 53,
     "metadata": {},
     "output_type": "execute_result"
    }
   ],
   "source": [
    "final[(final['Класс'] == 8) & (final['Тип награды'] != 'Участник')].shape"
   ]
  },
  {
   "cell_type": "code",
   "execution_count": 50,
   "id": "8d513fe7",
   "metadata": {},
   "outputs": [
    {
     "data": {
      "text/plain": [
       "(34, 6)"
      ]
     },
     "execution_count": 50,
     "metadata": {},
     "output_type": "execute_result"
    }
   ],
   "source": [
    "final[(final['Класс'] == 9) & (final['Тип награды'] != 'Участник')].shape"
   ]
  },
  {
   "cell_type": "code",
   "execution_count": 52,
   "id": "ea7484a2",
   "metadata": {},
   "outputs": [
    {
     "data": {
      "text/plain": [
       "(57, 6)"
      ]
     },
     "execution_count": 52,
     "metadata": {},
     "output_type": "execute_result"
    }
   ],
   "source": [
    "final[(final['Класс'] == 10) & (final['Тип награды'] != 'Участник')].shape"
   ]
  },
  {
   "cell_type": "markdown",
   "id": "072d2809",
   "metadata": {},
   "source": [
    "Итого: \n",
    "- в 9 нет автопроходников, \n",
    "- в 10: 34 автопроходника, \n",
    "- в 11: 57 автопроходников"
   ]
  },
  {
   "cell_type": "code",
   "execution_count": 65,
   "id": "689611c3",
   "metadata": {},
   "outputs": [],
   "source": [
    "df9.columns = ['регион', 'сумма баллов']\n",
    "df10.columns = ['регион', 'сумма баллов']\n",
    "df11.columns = ['регион', 'сумма баллов']"
   ]
  },
  {
   "cell_type": "code",
   "execution_count": 103,
   "id": "8061c0c1",
   "metadata": {},
   "outputs": [
    {
     "name": "stdout",
     "output_type": "stream",
     "text": [
      "Автопроход: 0, новые: 100\n",
      "проходной: 137\n",
      "-----------------------\n"
     ]
    }
   ],
   "source": [
    "#9 class\n",
    "for prohod in range(100, 200):\n",
    "    avtoprohod = 0\n",
    "    novie = df9[df9['сумма баллов'] >= prohod].shape[0]\n",
    "    if avtoprohod + novie <= 100:\n",
    "        print(f'Автопроход: {avtoprohod}, новые: {novie}')\n",
    "        print(f'проходной: {prohod}')\n",
    "        print('-----------------------')\n",
    "        break\n",
    "    "
   ]
  },
  {
   "cell_type": "code",
   "execution_count": 101,
   "id": "56f36bfe",
   "metadata": {},
   "outputs": [
    {
     "name": "stdout",
     "output_type": "stream",
     "text": [
      "Автопроход: 34, новые: 84\n",
      "проходной: 158\n",
      "-----------------------\n"
     ]
    }
   ],
   "source": [
    "#10 class\n",
    "for prohod in range(100, 200):\n",
    "    avtoprohod = 34\n",
    "    novie = df10[df10['сумма баллов'] >= prohod].shape[0]\n",
    "    if avtoprohod + novie <= 120:\n",
    "        print(f'Автопроход: {avtoprohod}, новые: {novie}')\n",
    "        print(f'проходной: {prohod}')\n",
    "        print('-----------------------')\n",
    "        break\n",
    "    "
   ]
  },
  {
   "cell_type": "code",
   "execution_count": 109,
   "id": "4e0d1972",
   "metadata": {},
   "outputs": [
    {
     "name": "stdout",
     "output_type": "stream",
     "text": [
      "Автопроход: 57, новые: 62\n",
      "проходной: 176\n",
      "-----------------------\n"
     ]
    }
   ],
   "source": [
    "#11 class\n",
    "for prohod in range(100, 200):\n",
    "    avtoprohod = 57\n",
    "    quote = 0\n",
    "    novie = df11[df11['сумма баллов'] >= prohod].shape[0]\n",
    "    if novie + avtoprohod <= 120:\n",
    "        print(f'Автопроход: {avtoprohod}, новые: {novie}')\n",
    "        print(f'проходной: {prohod}')\n",
    "        print('-----------------------')\n",
    "        break\n",
    "    "
   ]
  },
  {
   "cell_type": "markdown",
   "id": "64e972bd",
   "metadata": {},
   "source": [
    "## Если распределение баллов и число мест на закле не меняется, то какие будут проходные?"
   ]
  },
  {
   "cell_type": "code",
   "execution_count": 2,
   "id": "87f5b3ea",
   "metadata": {},
   "outputs": [],
   "source": [
    "final = pd.read_excel(r'C:\\Users\\billy\\OneDrive\\Рабочий стол\\data\\ЗЭ ВОШ экономика 2022.xlsx')\n",
    "final = final.dropna()\n",
    "final.columns = final.iloc[0, :]\n",
    "final = final.iloc[2:]"
   ]
  },
  {
   "cell_type": "code",
   "execution_count": 4,
   "id": "453433b5",
   "metadata": {},
   "outputs": [
    {
     "data": {
      "text/plain": [
       "(11, 6)"
      ]
     },
     "execution_count": 4,
     "metadata": {},
     "output_type": "execute_result"
    }
   ],
   "source": [
    "final[(final['Статус (победитель/ призер/ участник)'] != 'Участник') & (final['Класс'] < 9)].shape"
   ]
  },
  {
   "cell_type": "code",
   "execution_count": 118,
   "id": "83773629",
   "metadata": {},
   "outputs": [
    {
     "data": {
      "text/plain": [
       "(45, 6)"
      ]
     },
     "execution_count": 118,
     "metadata": {},
     "output_type": "execute_result"
    }
   ],
   "source": [
    "final[(final['Статус (победитель/ призер/ участник)'] != 'Участник') & (final['Класс'] == 9)].shape"
   ]
  },
  {
   "cell_type": "code",
   "execution_count": 119,
   "id": "a8fe31e2",
   "metadata": {},
   "outputs": [
    {
     "data": {
      "text/plain": [
       "(51, 6)"
      ]
     },
     "execution_count": 119,
     "metadata": {},
     "output_type": "execute_result"
    }
   ],
   "source": [
    "final[(final['Статус (победитель/ призер/ участник)'] != 'Участник') & (final['Класс'] == 10)].shape"
   ]
  },
  {
   "cell_type": "code",
   "execution_count": 128,
   "id": "4b351a59",
   "metadata": {},
   "outputs": [
    {
     "name": "stdout",
     "output_type": "stream",
     "text": [
      "Автопроход: 11, новые: 88\n",
      "проходной: 142\n",
      "-----------------------\n"
     ]
    }
   ],
   "source": [
    "#11 class\n",
    "for prohod in range(100, 200):\n",
    "    avtoprohod = 11\n",
    "    quote = 0\n",
    "    novie = df9[df9['сумма баллов'] >= prohod].shape[0]\n",
    "    if novie + avtoprohod <= 100:\n",
    "        print(f'Автопроход: {avtoprohod}, новые: {novie}')\n",
    "        print(f'проходной: {prohod}')\n",
    "        print('-----------------------')\n",
    "        break\n",
    "    "
   ]
  },
  {
   "cell_type": "markdown",
   "id": "c44ebd4d",
   "metadata": {},
   "source": [
    "# Проход в этом году"
   ]
  },
  {
   "cell_type": "markdown",
   "id": "3b45e33b",
   "metadata": {},
   "source": [
    "- 98 мест в 9\n",
    "- 75 мест в 10\n",
    "- 69 в 11. \n",
    "\n",
    "проходят по баллам"
   ]
  },
  {
   "cell_type": "code",
   "execution_count": 68,
   "id": "d702fa61",
   "metadata": {},
   "outputs": [],
   "source": [
    "def hui(x):\n",
    "  m = x.split()\n",
    "  if len(m) == 2:\n",
    "    answer = f'{m[0]} {m[1][0]}.'\n",
    "  elif len(m) == 3:\n",
    "    answer = f'{m[0]} {m[1][0]}. {m[2][0]}.'\n",
    "  return answer"
   ]
  },
  {
   "cell_type": "code",
   "execution_count": 73,
   "id": "6297a947",
   "metadata": {},
   "outputs": [
    {
     "data": {
      "text/html": [
       "<div>\n",
       "<style scoped>\n",
       "    .dataframe tbody tr th:only-of-type {\n",
       "        vertical-align: middle;\n",
       "    }\n",
       "\n",
       "    .dataframe tbody tr th {\n",
       "        vertical-align: top;\n",
       "    }\n",
       "\n",
       "    .dataframe thead th {\n",
       "        text-align: right;\n",
       "    }\n",
       "</style>\n",
       "<table border=\"1\" class=\"dataframe\">\n",
       "  <thead>\n",
       "    <tr style=\"text-align: right;\">\n",
       "      <th>12</th>\n",
       "      <th>№ п/п</th>\n",
       "      <th>Фамилия, имя, отчество</th>\n",
       "      <th>Субъект РФ</th>\n",
       "      <th>Класс</th>\n",
       "      <th>Результат\\n(баллы)</th>\n",
       "      <th>Статус (победитель/ призер/ участник)</th>\n",
       "      <th>Ф.И.О.</th>\n",
       "    </tr>\n",
       "  </thead>\n",
       "  <tbody>\n",
       "    <tr>\n",
       "      <th>15</th>\n",
       "      <td>1</td>\n",
       "      <td>Делозари Иван Дмитриевич</td>\n",
       "      <td>Город Москва</td>\n",
       "      <td>9</td>\n",
       "      <td>85</td>\n",
       "      <td>Победитель</td>\n",
       "      <td>Делозари И. Д.</td>\n",
       "    </tr>\n",
       "    <tr>\n",
       "      <th>16</th>\n",
       "      <td>2</td>\n",
       "      <td>Бортников Антон Аркадьевич</td>\n",
       "      <td>Город Москва</td>\n",
       "      <td>9</td>\n",
       "      <td>77</td>\n",
       "      <td>Победитель</td>\n",
       "      <td>Бортников А. А.</td>\n",
       "    </tr>\n",
       "    <tr>\n",
       "      <th>17</th>\n",
       "      <td>3</td>\n",
       "      <td>Жукова Елизавета Владиславовна</td>\n",
       "      <td>Город Москва</td>\n",
       "      <td>9</td>\n",
       "      <td>75</td>\n",
       "      <td>Победитель</td>\n",
       "      <td>Жукова Е. В.</td>\n",
       "    </tr>\n",
       "    <tr>\n",
       "      <th>18</th>\n",
       "      <td>4</td>\n",
       "      <td>Угрюмов Никита Викторович</td>\n",
       "      <td>Город Москва</td>\n",
       "      <td>9</td>\n",
       "      <td>75</td>\n",
       "      <td>Победитель</td>\n",
       "      <td>Угрюмов Н. В.</td>\n",
       "    </tr>\n",
       "    <tr>\n",
       "      <th>19</th>\n",
       "      <td>5</td>\n",
       "      <td>Лещинский Андрей Евгеньевич</td>\n",
       "      <td>Город Москва</td>\n",
       "      <td>9</td>\n",
       "      <td>73</td>\n",
       "      <td>Победитель</td>\n",
       "      <td>Лещинский А. Е.</td>\n",
       "    </tr>\n",
       "  </tbody>\n",
       "</table>\n",
       "</div>"
      ],
      "text/plain": [
       "12 № п/п          Фамилия, имя, отчество    Субъект РФ Класс  \\\n",
       "15     1        Делозари Иван Дмитриевич  Город Москва     9   \n",
       "16     2      Бортников Антон Аркадьевич  Город Москва     9   \n",
       "17     3  Жукова Елизавета Владиславовна  Город Москва     9   \n",
       "18     4       Угрюмов Никита Викторович  Город Москва     9   \n",
       "19     5     Лещинский Андрей Евгеньевич  Город Москва     9   \n",
       "\n",
       "12 Результат\\n(баллы) Статус (победитель/ призер/ участник)           Ф.И.О.  \n",
       "15                 85                            Победитель   Делозари И. Д.  \n",
       "16                 77                            Победитель  Бортников А. А.  \n",
       "17                 75                            Победитель     Жукова Е. В.  \n",
       "18                 75                            Победитель    Угрюмов Н. В.  \n",
       "19                 73                            Победитель  Лещинский А. Е.  "
      ]
     },
     "execution_count": 73,
     "metadata": {},
     "output_type": "execute_result"
    }
   ],
   "source": [
    "final['Ф.И.О.'] = final['Фамилия, имя, отчество'].apply(lambda x: hui(x))\n",
    "final.head()"
   ]
  },
  {
   "cell_type": "code",
   "execution_count": 78,
   "id": "592b57d7",
   "metadata": {},
   "outputs": [],
   "source": [
    "reg = pd.read_csv(r'C:\\Users\\billy\\OneDrive\\Рабочий стол\\data\\РЭ ВОШ экономика 2023.csv', sep='\\t')"
   ]
  },
  {
   "cell_type": "code",
   "execution_count": 81,
   "id": "dc59036b",
   "metadata": {},
   "outputs": [],
   "source": [
    "tmp = reg.merge(final, on='Ф.И.О.')"
   ]
  },
  {
   "cell_type": "code",
   "execution_count": 90,
   "id": "b06f3bf5",
   "metadata": {},
   "outputs": [
    {
     "data": {
      "text/html": [
       "<div>\n",
       "<style scoped>\n",
       "    .dataframe tbody tr th:only-of-type {\n",
       "        vertical-align: middle;\n",
       "    }\n",
       "\n",
       "    .dataframe tbody tr th {\n",
       "        vertical-align: top;\n",
       "    }\n",
       "\n",
       "    .dataframe thead th {\n",
       "        text-align: right;\n",
       "    }\n",
       "</style>\n",
       "<table border=\"1\" class=\"dataframe\">\n",
       "  <thead>\n",
       "    <tr style=\"text-align: right;\">\n",
       "      <th>12</th>\n",
       "      <th>№ п/п</th>\n",
       "      <th>Фамилия, имя, отчество</th>\n",
       "      <th>Субъект РФ</th>\n",
       "      <th>Класс</th>\n",
       "      <th>Результат\\n(баллы)</th>\n",
       "      <th>Статус (победитель/ призер/ участник)</th>\n",
       "      <th>Ф.И.О.</th>\n",
       "    </tr>\n",
       "  </thead>\n",
       "  <tbody>\n",
       "    <tr>\n",
       "      <th>15</th>\n",
       "      <td>1</td>\n",
       "      <td>Делозари Иван Дмитриевич</td>\n",
       "      <td>Город Москва</td>\n",
       "      <td>9</td>\n",
       "      <td>85</td>\n",
       "      <td>Победитель</td>\n",
       "      <td>Делозари И. Д.</td>\n",
       "    </tr>\n",
       "    <tr>\n",
       "      <th>16</th>\n",
       "      <td>2</td>\n",
       "      <td>Бортников Антон Аркадьевич</td>\n",
       "      <td>Город Москва</td>\n",
       "      <td>9</td>\n",
       "      <td>77</td>\n",
       "      <td>Победитель</td>\n",
       "      <td>Бортников А. А.</td>\n",
       "    </tr>\n",
       "    <tr>\n",
       "      <th>17</th>\n",
       "      <td>3</td>\n",
       "      <td>Жукова Елизавета Владиславовна</td>\n",
       "      <td>Город Москва</td>\n",
       "      <td>9</td>\n",
       "      <td>75</td>\n",
       "      <td>Победитель</td>\n",
       "      <td>Жукова Е. В.</td>\n",
       "    </tr>\n",
       "    <tr>\n",
       "      <th>18</th>\n",
       "      <td>4</td>\n",
       "      <td>Угрюмов Никита Викторович</td>\n",
       "      <td>Город Москва</td>\n",
       "      <td>9</td>\n",
       "      <td>75</td>\n",
       "      <td>Победитель</td>\n",
       "      <td>Угрюмов Н. В.</td>\n",
       "    </tr>\n",
       "    <tr>\n",
       "      <th>19</th>\n",
       "      <td>5</td>\n",
       "      <td>Лещинский Андрей Евгеньевич</td>\n",
       "      <td>Город Москва</td>\n",
       "      <td>9</td>\n",
       "      <td>73</td>\n",
       "      <td>Победитель</td>\n",
       "      <td>Лещинский А. Е.</td>\n",
       "    </tr>\n",
       "    <tr>\n",
       "      <th>...</th>\n",
       "      <td>...</td>\n",
       "      <td>...</td>\n",
       "      <td>...</td>\n",
       "      <td>...</td>\n",
       "      <td>...</td>\n",
       "      <td>...</td>\n",
       "      <td>...</td>\n",
       "    </tr>\n",
       "    <tr>\n",
       "      <th>354</th>\n",
       "      <td>117</td>\n",
       "      <td>Лахнов Кирилл Алексеевич</td>\n",
       "      <td>Владимирская область</td>\n",
       "      <td>11</td>\n",
       "      <td>29</td>\n",
       "      <td>Участник</td>\n",
       "      <td>Лахнов К. А.</td>\n",
       "    </tr>\n",
       "    <tr>\n",
       "      <th>355</th>\n",
       "      <td>118</td>\n",
       "      <td>Захаров Алексей Сергеевич</td>\n",
       "      <td>Хабаровский край</td>\n",
       "      <td>11</td>\n",
       "      <td>28</td>\n",
       "      <td>Участник</td>\n",
       "      <td>Захаров А. С.</td>\n",
       "    </tr>\n",
       "    <tr>\n",
       "      <th>356</th>\n",
       "      <td>119</td>\n",
       "      <td>Жохов Олег Дмитриевич</td>\n",
       "      <td>Мурманская область</td>\n",
       "      <td>11</td>\n",
       "      <td>22</td>\n",
       "      <td>Участник</td>\n",
       "      <td>Жохов О. Д.</td>\n",
       "    </tr>\n",
       "    <tr>\n",
       "      <th>357</th>\n",
       "      <td>120</td>\n",
       "      <td>Агафонов Павел Андреевич</td>\n",
       "      <td>Томская область</td>\n",
       "      <td>11</td>\n",
       "      <td>18</td>\n",
       "      <td>Участник</td>\n",
       "      <td>Агафонов П. А.</td>\n",
       "    </tr>\n",
       "    <tr>\n",
       "      <th>358</th>\n",
       "      <td>121</td>\n",
       "      <td>Напольников Никита Сергеевич</td>\n",
       "      <td>Тверская область</td>\n",
       "      <td>11</td>\n",
       "      <td>18</td>\n",
       "      <td>Участник</td>\n",
       "      <td>Напольников Н. С.</td>\n",
       "    </tr>\n",
       "  </tbody>\n",
       "</table>\n",
       "<p>340 rows × 7 columns</p>\n",
       "</div>"
      ],
      "text/plain": [
       "12  № п/п          Фамилия, имя, отчество            Субъект РФ Класс  \\\n",
       "15      1        Делозари Иван Дмитриевич          Город Москва     9   \n",
       "16      2      Бортников Антон Аркадьевич          Город Москва     9   \n",
       "17      3  Жукова Елизавета Владиславовна          Город Москва     9   \n",
       "18      4       Угрюмов Никита Викторович          Город Москва     9   \n",
       "19      5     Лещинский Андрей Евгеньевич          Город Москва     9   \n",
       "..    ...                             ...                   ...   ...   \n",
       "354   117        Лахнов Кирилл Алексеевич  Владимирская область    11   \n",
       "355   118       Захаров Алексей Сергеевич      Хабаровский край    11   \n",
       "356   119           Жохов Олег Дмитриевич    Мурманская область    11   \n",
       "357   120        Агафонов Павел Андреевич       Томская область    11   \n",
       "358   121    Напольников Никита Сергеевич      Тверская область    11   \n",
       "\n",
       "12  Результат\\n(баллы) Статус (победитель/ призер/ участник)  \\\n",
       "15                  85                            Победитель   \n",
       "16                  77                            Победитель   \n",
       "17                  75                            Победитель   \n",
       "18                  75                            Победитель   \n",
       "19                  73                            Победитель   \n",
       "..                 ...                                   ...   \n",
       "354                 29                              Участник   \n",
       "355                 28                              Участник   \n",
       "356                 22                              Участник   \n",
       "357                 18                              Участник   \n",
       "358                 18                              Участник   \n",
       "\n",
       "12              Ф.И.О.  \n",
       "15      Делозари И. Д.  \n",
       "16     Бортников А. А.  \n",
       "17        Жукова Е. В.  \n",
       "18       Угрюмов Н. В.  \n",
       "19     Лещинский А. Е.  \n",
       "..                 ...  \n",
       "354       Лахнов К. А.  \n",
       "355      Захаров А. С.  \n",
       "356        Жохов О. Д.  \n",
       "357     Агафонов П. А.  \n",
       "358  Напольников Н. С.  \n",
       "\n",
       "[340 rows x 7 columns]"
      ]
     },
     "execution_count": 90,
     "metadata": {},
     "output_type": "execute_result"
    }
   ],
   "source": [
    "final"
   ]
  },
  {
   "cell_type": "code",
   "execution_count": 105,
   "id": "3375eefa",
   "metadata": {},
   "outputs": [],
   "source": [
    "regions = final[(final['Статус (победитель/ призер/ участник)'] != 'Участник') & (final['Класс'] == 9)]['Субъект РФ'].unique()"
   ]
  },
  {
   "cell_type": "code",
   "execution_count": 99,
   "id": "48cc8059",
   "metadata": {},
   "outputs": [
    {
     "data": {
      "text/plain": [
       "0.5777777777777777"
      ]
     },
     "execution_count": 99,
     "metadata": {},
     "output_type": "execute_result"
    }
   ],
   "source": [
    "final[(final['Субъект РФ'] == 'Город Москва') & (final['Статус (победитель/ призер/ участник)'] != 'Участник') & (final['Класс'] == 9)].shape[0] / final[(final['Статус (победитель/ призер/ участник)'] != 'Участник') & (final['Класс'] == 9)].shape[0]"
   ]
  },
  {
   "cell_type": "code",
   "execution_count": 257,
   "id": "81cf2d52",
   "metadata": {},
   "outputs": [],
   "source": [
    "df=pd.read_excel(r'C:\\Users\\billy\\OneDrive\\Рабочий стол\\data\\geg.xlsx')"
   ]
  },
  {
   "cell_type": "code",
   "execution_count": 262,
   "id": "9693d3cd",
   "metadata": {},
   "outputs": [
    {
     "data": {
      "text/html": [
       "<div>\n",
       "<style scoped>\n",
       "    .dataframe tbody tr th:only-of-type {\n",
       "        vertical-align: middle;\n",
       "    }\n",
       "\n",
       "    .dataframe tbody tr th {\n",
       "        vertical-align: top;\n",
       "    }\n",
       "\n",
       "    .dataframe thead th {\n",
       "        text-align: right;\n",
       "    }\n",
       "</style>\n",
       "<table border=\"1\" class=\"dataframe\">\n",
       "  <thead>\n",
       "    <tr style=\"text-align: right;\">\n",
       "      <th></th>\n",
       "      <th>Регион</th>\n",
       "      <th>Сумма баллов</th>\n",
       "      <th>Призер/побед закла?</th>\n",
       "    </tr>\n",
       "  </thead>\n",
       "  <tbody>\n",
       "    <tr>\n",
       "      <th>0</th>\n",
       "      <td>Удмуртская Республика</td>\n",
       "      <td>190</td>\n",
       "      <td>0</td>\n",
       "    </tr>\n",
       "    <tr>\n",
       "      <th>3</th>\n",
       "      <td>город Москва</td>\n",
       "      <td>185</td>\n",
       "      <td>0</td>\n",
       "    </tr>\n",
       "    <tr>\n",
       "      <th>4</th>\n",
       "      <td>город Москва</td>\n",
       "      <td>183</td>\n",
       "      <td>0</td>\n",
       "    </tr>\n",
       "    <tr>\n",
       "      <th>5</th>\n",
       "      <td>город Москва</td>\n",
       "      <td>183</td>\n",
       "      <td>0</td>\n",
       "    </tr>\n",
       "    <tr>\n",
       "      <th>6</th>\n",
       "      <td>город Москва</td>\n",
       "      <td>183</td>\n",
       "      <td>0</td>\n",
       "    </tr>\n",
       "    <tr>\n",
       "      <th>...</th>\n",
       "      <td>...</td>\n",
       "      <td>...</td>\n",
       "      <td>...</td>\n",
       "    </tr>\n",
       "    <tr>\n",
       "      <th>99</th>\n",
       "      <td>город Москва</td>\n",
       "      <td>121</td>\n",
       "      <td>0</td>\n",
       "    </tr>\n",
       "    <tr>\n",
       "      <th>100</th>\n",
       "      <td>город Москва</td>\n",
       "      <td>121</td>\n",
       "      <td>0</td>\n",
       "    </tr>\n",
       "    <tr>\n",
       "      <th>101</th>\n",
       "      <td>Тамбовская область</td>\n",
       "      <td>120</td>\n",
       "      <td>0</td>\n",
       "    </tr>\n",
       "    <tr>\n",
       "      <th>102</th>\n",
       "      <td>город Москва</td>\n",
       "      <td>120</td>\n",
       "      <td>0</td>\n",
       "    </tr>\n",
       "    <tr>\n",
       "      <th>103</th>\n",
       "      <td>город Санкт-Петербург</td>\n",
       "      <td>120</td>\n",
       "      <td>0</td>\n",
       "    </tr>\n",
       "  </tbody>\n",
       "</table>\n",
       "<p>80 rows × 3 columns</p>\n",
       "</div>"
      ],
      "text/plain": [
       "                    Регион  Сумма баллов  Призер/побед закла?\n",
       "0    Удмуртская Республика           190                    0\n",
       "3             город Москва           185                    0\n",
       "4             город Москва           183                    0\n",
       "5             город Москва           183                    0\n",
       "6             город Москва           183                    0\n",
       "..                     ...           ...                  ...\n",
       "99            город Москва           121                    0\n",
       "100           город Москва           121                    0\n",
       "101     Тамбовская область           120                    0\n",
       "102           город Москва           120                    0\n",
       "103  город Санкт-Петербург           120                    0\n",
       "\n",
       "[80 rows x 3 columns]"
      ]
     },
     "execution_count": 262,
     "metadata": {},
     "output_type": "execute_result"
    }
   ],
   "source": [
    "df[df['Призер/побед закла?'] == 0]"
   ]
  },
  {
   "cell_type": "code",
   "execution_count": 265,
   "id": "3722d092",
   "metadata": {},
   "outputs": [
    {
     "data": {
      "text/plain": [
       "(74, 3)"
      ]
     },
     "execution_count": 265,
     "metadata": {},
     "output_type": "execute_result"
    }
   ],
   "source": [
    "df[(df['Призер/побед закла?'] == 0) & (df['Сумма баллов'] > 121)].shape"
   ]
  },
  {
   "cell_type": "code",
   "execution_count": 270,
   "id": "a86f2c9d",
   "metadata": {},
   "outputs": [
    {
     "data": {
      "text/plain": [
       "(63, 3)"
      ]
     },
     "execution_count": 270,
     "metadata": {},
     "output_type": "execute_result"
    }
   ],
   "source": [
    "df[(df['Призер/побед закла?'] == 0) & (df['Сумма баллов'] > 126)].shape"
   ]
  },
  {
   "cell_type": "code",
   "execution_count": 275,
   "id": "2882ddf1",
   "metadata": {},
   "outputs": [
    {
     "data": {
      "text/plain": [
       "(53, 3)"
      ]
     },
     "execution_count": 275,
     "metadata": {},
     "output_type": "execute_result"
    }
   ],
   "source": [
    "df[(df['Призер/побед закла?'] == 0) & (df['Сумма баллов'] > 133)].shape"
   ]
  },
  {
   "cell_type": "code",
   "execution_count": 280,
   "id": "6e78b13d",
   "metadata": {},
   "outputs": [],
   "source": [
    "df = pd.read_excel(r'C:\\Users\\billy\\OneDrive\\Рабочий стол\\data\\Копия Регион(неоффииальный рейтинг).xlsx', sheet_name=0)"
   ]
  },
  {
   "cell_type": "code",
   "execution_count": 277,
   "id": "cbd87406",
   "metadata": {},
   "outputs": [],
   "source": [
    "df = df.iloc[:, :3]"
   ]
  },
  {
   "cell_type": "code",
   "execution_count": 296,
   "id": "bd48b749",
   "metadata": {},
   "outputs": [
    {
     "data": {
      "text/plain": [
       "(72, 6)"
      ]
     },
     "execution_count": 296,
     "metadata": {},
     "output_type": "execute_result"
    }
   ],
   "source": [
    "df[df['Балл на РЭ'] >= 145].shape"
   ]
  },
  {
   "cell_type": "code",
   "execution_count": 295,
   "id": "496ab039",
   "metadata": {},
   "outputs": [
    {
     "data": {
      "text/plain": [
       "99"
      ]
     },
     "execution_count": 295,
     "metadata": {},
     "output_type": "execute_result"
    }
   ],
   "source": [
    "48+51"
   ]
  },
  {
   "cell_type": "markdown",
   "id": "e6b0315d",
   "metadata": {},
   "source": [
    "119\n",
    "118\n",
    "118\n",
    "118\n",
    "118\n"
   ]
  },
  {
   "cell_type": "markdown",
   "id": "18b69e84",
   "metadata": {},
   "source": [
    "# Итого:\n",
    "\n",
    "В прошлом году было 107 мест в 9 классе, 112 мест в 10 классе и 121 мест в 11\n",
    "\n",
    "Будем считать пессимистичным исходом, когда мест будет 100, в среднем 110 и оптимистичным когда их будет 120\n",
    "\n",
    "В этом году:\n",
    "- 11 автопроходников в 9, \n",
    "- 45 автопроходников в 10 и \n",
    "- 51 автопроходник в 11 \n",
    "\n",
    "Следовательно:\n",
    "- (89; 99, 109) мест в 9, \n",
    "- (55; 65; 75) мест в 10, и \n",
    "- (39, 49, 59) мест в 11. \n",
    "\n",
    "Очистим рейтинг econ talk от автопроходников и посчитаем балл последнего прошедшего человека в каждом случае:\n",
    "\n",
    "- (113, 118, 125) баллов в 9\n",
    "- (125, 126, 133) баллов в 10\n",
    "- (154, 162, 167) баллов в 11\n"
   ]
  },
  {
   "cell_type": "code",
   "execution_count": null,
   "id": "31cb9097",
   "metadata": {},
   "outputs": [],
   "source": []
  }
 ],
 "metadata": {
  "kernelspec": {
   "display_name": "Python 3 (ipykernel)",
   "language": "python",
   "name": "python3"
  },
  "language_info": {
   "codemirror_mode": {
    "name": "ipython",
    "version": 3
   },
   "file_extension": ".py",
   "mimetype": "text/x-python",
   "name": "python",
   "nbconvert_exporter": "python",
   "pygments_lexer": "ipython3",
   "version": "3.9.13"
  }
 },
 "nbformat": 4,
 "nbformat_minor": 5
}
